{
 "cells": [
  {
   "cell_type": "code",
   "execution_count": 52,
   "id": "40b27bd0",
   "metadata": {},
   "outputs": [],
   "source": [
    "from collections import defaultdict\n",
    "\n",
    "import matplotlib.pyplot as plt\n",
    "import seaborn as sns\n",
    "import pandas as pd\n",
    "import os\n",
    "\n",
    "sns.set_theme(style=\"whitegrid\")\n",
    "color = sns.color_palette(\"Set2\", 10)\n",
    "sns.set_palette(palette = color)"
   ]
  },
  {
   "cell_type": "markdown",
   "id": "cdb8dfa4",
   "metadata": {},
   "source": [
    "# get data"
   ]
  },
  {
   "cell_type": "markdown",
   "id": "298c7c95",
   "metadata": {},
   "source": [
    "## corticalFlow, v2c, cortexODE"
   ]
  },
  {
   "cell_type": "code",
   "execution_count": 53,
   "id": "edaf3c21",
   "metadata": {},
   "outputs": [],
   "source": [
    "pre = '../../data/MeshCollisionData/mesh-intersection/'\n",
    "pre2 = '../../data/MeshCollisionData/self-Intersection/'"
   ]
  },
  {
   "cell_type": "code",
   "execution_count": 54,
   "id": "d611a6dd",
   "metadata": {},
   "outputs": [
    {
     "data": {
      "text/plain": [
       "['cf-pw-intersections.csv',\n",
       " 'v2c-pw-intersections.csv',\n",
       " 'whitePialIntesectionsGTruth-points.csv',\n",
       " 'code-pw-intersections.csv',\n",
       " 'deepcsrWtPlCollision.csv',\n",
       " 'dcsr-pw-intersections.csv']"
      ]
     },
     "execution_count": 54,
     "metadata": {},
     "output_type": "execute_result"
    }
   ],
   "source": [
    "lists = os.listdir(pre)\n",
    "lists"
   ]
  },
  {
   "cell_type": "code",
   "execution_count": 55,
   "id": "79533bbc",
   "metadata": {},
   "outputs": [],
   "source": [
    "def get_data(idx, pre = pre):\n",
    "    df = pd.read_csv(pre + lists[idx])\n",
    "    df['ratio'] = df['intersections']/(df['pial-traingles']+df['white-traingles']) * 100\n",
    "    return list(df['ratio'])\n",
    "\n",
    "cf_data = get_data(0)\n",
    "v2c_data = get_data(1)\n",
    "code = get_data(3)"
   ]
  },
  {
   "cell_type": "markdown",
   "id": "28f7257d",
   "metadata": {},
   "source": [
    "## GT(FreeSurfer)"
   ]
  },
  {
   "cell_type": "code",
   "execution_count": 56,
   "id": "dfc9f8aa",
   "metadata": {},
   "outputs": [
    {
     "data": {
      "text/html": [
       "<div>\n",
       "<style scoped>\n",
       "    .dataframe tbody tr th:only-of-type {\n",
       "        vertical-align: middle;\n",
       "    }\n",
       "\n",
       "    .dataframe tbody tr th {\n",
       "        vertical-align: top;\n",
       "    }\n",
       "\n",
       "    .dataframe thead th {\n",
       "        text-align: right;\n",
       "    }\n",
       "</style>\n",
       "<table border=\"1\" class=\"dataframe\">\n",
       "  <thead>\n",
       "    <tr style=\"text-align: right;\">\n",
       "      <th></th>\n",
       "      <th>idx</th>\n",
       "      <th>f1</th>\n",
       "      <th>intersections</th>\n",
       "      <th>points</th>\n",
       "    </tr>\n",
       "  </thead>\n",
       "  <tbody>\n",
       "    <tr>\n",
       "      <th>0</th>\n",
       "      <td>0</td>\n",
       "      <td>/data/users2/llu13/output/cortexode/truth/samp...</td>\n",
       "      <td>4933</td>\n",
       "      <td>133471</td>\n",
       "    </tr>\n",
       "    <tr>\n",
       "      <th>1</th>\n",
       "      <td>1</td>\n",
       "      <td>/data/users2/llu13/output/cortexode/truth/samp...</td>\n",
       "      <td>4519</td>\n",
       "      <td>144630</td>\n",
       "    </tr>\n",
       "    <tr>\n",
       "      <th>2</th>\n",
       "      <td>2</td>\n",
       "      <td>/data/users2/llu13/output/cortexode/truth/samp...</td>\n",
       "      <td>5460</td>\n",
       "      <td>171923</td>\n",
       "    </tr>\n",
       "    <tr>\n",
       "      <th>3</th>\n",
       "      <td>3</td>\n",
       "      <td>/data/users2/llu13/output/cortexode/truth/samp...</td>\n",
       "      <td>5105</td>\n",
       "      <td>139966</td>\n",
       "    </tr>\n",
       "    <tr>\n",
       "      <th>4</th>\n",
       "      <td>4</td>\n",
       "      <td>/data/users2/llu13/output/cortexode/truth/samp...</td>\n",
       "      <td>5182</td>\n",
       "      <td>140196</td>\n",
       "    </tr>\n",
       "    <tr>\n",
       "      <th>...</th>\n",
       "      <td>...</td>\n",
       "      <td>...</td>\n",
       "      <td>...</td>\n",
       "      <td>...</td>\n",
       "    </tr>\n",
       "    <tr>\n",
       "      <th>102</th>\n",
       "      <td>102</td>\n",
       "      <td>/data/users2/llu13/output/cortexode/truth/samp...</td>\n",
       "      <td>5013</td>\n",
       "      <td>133909</td>\n",
       "    </tr>\n",
       "    <tr>\n",
       "      <th>103</th>\n",
       "      <td>103</td>\n",
       "      <td>/data/users2/llu13/output/cortexode/truth/samp...</td>\n",
       "      <td>4847</td>\n",
       "      <td>117257</td>\n",
       "    </tr>\n",
       "    <tr>\n",
       "      <th>104</th>\n",
       "      <td>104</td>\n",
       "      <td>/data/users2/llu13/output/cortexode/truth/samp...</td>\n",
       "      <td>4771</td>\n",
       "      <td>158470</td>\n",
       "    </tr>\n",
       "    <tr>\n",
       "      <th>105</th>\n",
       "      <td>105</td>\n",
       "      <td>/data/users2/llu13/output/cortexode/truth/samp...</td>\n",
       "      <td>4988</td>\n",
       "      <td>145872</td>\n",
       "    </tr>\n",
       "    <tr>\n",
       "      <th>106</th>\n",
       "      <td>106</td>\n",
       "      <td>/data/users2/llu13/output/cortexode/truth/samp...</td>\n",
       "      <td>4560</td>\n",
       "      <td>156415</td>\n",
       "    </tr>\n",
       "  </tbody>\n",
       "</table>\n",
       "<p>107 rows × 4 columns</p>\n",
       "</div>"
      ],
      "text/plain": [
       "     idx                                                 f1  intersections  \\\n",
       "0      0  /data/users2/llu13/output/cortexode/truth/samp...           4933   \n",
       "1      1  /data/users2/llu13/output/cortexode/truth/samp...           4519   \n",
       "2      2  /data/users2/llu13/output/cortexode/truth/samp...           5460   \n",
       "3      3  /data/users2/llu13/output/cortexode/truth/samp...           5105   \n",
       "4      4  /data/users2/llu13/output/cortexode/truth/samp...           5182   \n",
       "..   ...                                                ...            ...   \n",
       "102  102  /data/users2/llu13/output/cortexode/truth/samp...           5013   \n",
       "103  103  /data/users2/llu13/output/cortexode/truth/samp...           4847   \n",
       "104  104  /data/users2/llu13/output/cortexode/truth/samp...           4771   \n",
       "105  105  /data/users2/llu13/output/cortexode/truth/samp...           4988   \n",
       "106  106  /data/users2/llu13/output/cortexode/truth/samp...           4560   \n",
       "\n",
       "     points  \n",
       "0    133471  \n",
       "1    144630  \n",
       "2    171923  \n",
       "3    139966  \n",
       "4    140196  \n",
       "..      ...  \n",
       "102  133909  \n",
       "103  117257  \n",
       "104  158470  \n",
       "105  145872  \n",
       "106  156415  \n",
       "\n",
       "[107 rows x 4 columns]"
      ]
     },
     "execution_count": 56,
     "metadata": {},
     "output_type": "execute_result"
    }
   ],
   "source": [
    "df = pd.read_csv(pre + lists[2])\n",
    "df"
   ]
  },
  {
   "cell_type": "code",
   "execution_count": 57,
   "id": "02ef8f8f",
   "metadata": {},
   "outputs": [],
   "source": [
    "df['f1_update'] = df['f1'].apply(lambda x:x.split('/')[-1])"
   ]
  },
  {
   "cell_type": "code",
   "execution_count": 58,
   "id": "a3bdb596",
   "metadata": {},
   "outputs": [],
   "source": [
    "\n",
    "f1 = pre2 + 'SelfIntersectionGTruthOutputs-lh-white.csv'\n",
    "f2 = pre2 + 'SelfIntersectionGTruthOutputs-LH-PIAL.csv'\n",
    "df1, df2 = pd.read_csv(f1),pd.read_csv(f2)\n",
    "\n",
    "df['ratio'] = df['intersections']/(df1['triangles']*2)*100"
   ]
  },
  {
   "cell_type": "code",
   "execution_count": 59,
   "id": "d2753d39",
   "metadata": {},
   "outputs": [],
   "source": [
    "fsurfer = list(df['ratio'])"
   ]
  },
  {
   "cell_type": "markdown",
   "id": "d9a991f7",
   "metadata": {},
   "source": [
    "## deepCSR"
   ]
  },
  {
   "cell_type": "code",
   "execution_count": 60,
   "id": "47c047da",
   "metadata": {},
   "outputs": [],
   "source": [
    "df = pd.read_csv(pre + lists[4],header=None)\n",
    "df2 = pd.read_csv(pre + lists[5])\n",
    "\n",
    "def fun1(idx):\n",
    "    tmp = df2[df2['idx']==0]\n",
    "    return tmp['pial-traingles'][0] + tmp['white-traingles'][0]\n",
    "\n",
    "df['ratio'] = df[2]/fun1(df[0])*100"
   ]
  },
  {
   "cell_type": "code",
   "execution_count": 61,
   "id": "bfd14218",
   "metadata": {},
   "outputs": [],
   "source": [
    "dcsr = list(df['ratio'])"
   ]
  },
  {
   "cell_type": "markdown",
   "id": "0002e440",
   "metadata": {},
   "source": [
    "## sorting "
   ]
  },
  {
   "cell_type": "markdown",
   "id": "4511d560",
   "metadata": {},
   "source": [
    "    Sorting high -> low: \n",
    "    \n",
    "        code, v2c, fsurfer, cf, dcsr"
   ]
  },
  {
   "cell_type": "markdown",
   "id": "7ad09c52",
   "metadata": {},
   "source": [
    "## re-organize the data for all the models."
   ]
  },
  {
   "cell_type": "code",
   "execution_count": 62,
   "id": "056d3cfb",
   "metadata": {},
   "outputs": [],
   "source": [
    "models = ['CortexODE','Vox2Cortex','FreeSurfer','CorticalFlow','DeepCSR']\n",
    "model = [models[0]]*len(code) + [models[1]] * len(v2c_data) + [models[2]] * len(fsurfer) + [models[3]] * len(cf_data) + [models[4]] * len(dcsr)\n",
    "nums = code + v2c_data + fsurfer + cf_data + dcsr\n",
    "\n",
    "nums = [d*2.0 for d in nums]"
   ]
  },
  {
   "cell_type": "code",
   "execution_count": 63,
   "id": "cf75a1ea",
   "metadata": {},
   "outputs": [],
   "source": [
    "df2 = pd.DataFrame()\n",
    "df2['Model'] = model"
   ]
  },
  {
   "cell_type": "code",
   "execution_count": 64,
   "id": "9da65bad",
   "metadata": {},
   "outputs": [],
   "source": [
    "df2['White pial collision percentage'] = nums"
   ]
  },
  {
   "cell_type": "markdown",
   "id": "8d4f14d5",
   "metadata": {},
   "source": [
    "# plot"
   ]
  },
  {
   "cell_type": "code",
   "execution_count": 65,
   "id": "031b20cb",
   "metadata": {},
   "outputs": [
    {
     "data": {
      "image/png": "[encoded data removed]",
      "text/plain": [
       "<Figure size 432x288 with 1 Axes>"
      ]
     },
     "metadata": {},
     "output_type": "display_data"
    }
   ],
   "source": [
    "# libraries & dataset\n",
    "import seaborn as sns\n",
    "import matplotlib.pyplot as plt\n",
    "sns.set(style=\"darkgrid\")\n",
    "\n",
    "x='Model' \n",
    "y='White pial collision percentage'\n",
    "\n",
    "# Usual boxplot\n",
    "ax = sns.boxplot(x=x, y=y, data=df2,showfliers=False)\n",
    " \n",
    "ax = sns.stripplot(x=x, y=y, data=df2,jitter=True,alpha = .4);"
   ]
  },
  {
   "cell_type": "markdown",
   "id": "aabfab03",
   "metadata": {},
   "source": [
    "# Save Figure"
   ]
  },
  {
   "cell_type": "markdown",
   "id": "5ff572f3",
   "metadata": {},
   "source": [
    "## save as PNG"
   ]
  },
  {
   "cell_type": "code",
   "execution_count": 66,
   "id": "565206a8",
   "metadata": {},
   "outputs": [],
   "source": [
    "fig = ax.get_figure()\n",
    "fig.savefig('WhitePialCollisionPlot.png', bbox_inches='tight',dpi=300)"
   ]
  },
  {
   "cell_type": "markdown",
   "id": "2de09333",
   "metadata": {},
   "source": [
    "## save as SVG"
   ]
  },
  {
   "cell_type": "code",
   "execution_count": 67,
   "id": "a3c228e2",
   "metadata": {},
   "outputs": [],
   "source": [
    "fig.savefig('WhitePialCollisionPlot.svg', transparent=True, bbox_inches='tight', pad_inches=0)"
   ]
  }
 ],
 "metadata": {
  "kernelspec": {
   "display_name": "Python 3 (ipykernel)",
   "language": "python",
   "name": "python3"
  },
  "language_info": {
   "codemirror_mode": {
    "name": "ipython",
    "version": 3
   },
   "file_extension": ".py",
   "mimetype": "text/x-python",
   "name": "python",
   "nbconvert_exporter": "python",
   "pygments_lexer": "ipython3",
   "version": "3.9.7"
  },
  "toc": {
   "base_numbering": 1,
   "nav_menu": {},
   "number_sections": true,
   "sideBar": true,
   "skip_h1_title": false,
   "title_cell": "Table of Contents",
   "title_sidebar": "Contents",
   "toc_cell": false,
   "toc_position": {},
   "toc_section_display": true,
   "toc_window_display": false
  },
  "varInspector": {
   "cols": {
    "lenName": 16,
    "lenType": 16,
    "lenVar": 40
   },
   "kernels_config": {
    "python": {
     "delete_cmd_postfix": "",
     "delete_cmd_prefix": "del ",
     "library": "var_list.py",
     "varRefreshCmd": "print(var_dic_list())"
    },
    "r": {
     "delete_cmd_postfix": ") ",
     "delete_cmd_prefix": "rm(",
     "library": "var_list.r",
     "varRefreshCmd": "cat(var_dic_list()) "
    }
   },
   "types_to_exclude": [
    "module",
    "function",
    "builtin_function_or_method",
    "instance",
    "_Feature"
   ],
   "window_display": false
  }
 },
 "nbformat": 4,
 "nbformat_minor": 5
}

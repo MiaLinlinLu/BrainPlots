{
 "cells": [
  {
   "cell_type": "code",
   "execution_count": 1,
   "id": "b68587b7",
   "metadata": {},
   "outputs": [],
   "source": [
    "from collections import defaultdict\n",
    "import pyvista as pv"
   ]
  },
  {
   "cell_type": "code",
   "execution_count": 2,
   "id": "cbd9f999",
   "metadata": {},
   "outputs": [],
   "source": [
    "pials= ['cortexode', 'corticalflow', 'deepcsr', 'vox2cortex', 'freesurfer']\n",
    "pws = ['pial', 'white']\n",
    "whites = ['cortexode', 'corticalflow', 'deepcsr', 'vox2cortex', 'freesurfer', 'topofit']\n",
    "subjects = ['206222', '286650', '299154', '236130']"
   ]
  },
  {
   "cell_type": "markdown",
   "id": "8aa4e410",
   "metadata": {},
   "source": [
    "# pial"
   ]
  },
  {
   "cell_type": "code",
   "execution_count": 8,
   "id": "d99e257c",
   "metadata": {},
   "outputs": [],
   "source": [
    "pw = 'pial'\n",
    "pial_fnames = defaultdict(dict)\n",
    "for model in pials:\n",
    "    for subject in subjects:\n",
    "        pial_fnames[subject][model]=f'data-jul7/{model}-{subject}-lh_{pw}-rm.stl'"
   ]
  },
  {
   "cell_type": "code",
   "execution_count": 54,
   "id": "ff411829",
   "metadata": {
    "scrolled": false
   },
   "outputs": [
    {
     "name": "stdout",
     "output_type": "stream",
     "text": [
      "working on cortexode\n",
      "working on corticalflow\n",
      "working on deepcsr\n",
      "working on vox2cortex\n",
      "working on freesurfer\n",
      "working on cortexode\n",
      "working on corticalflow\n",
      "working on deepcsr\n",
      "working on vox2cortex\n",
      "working on freesurfer\n"
     ]
    },
    {
     "data": {
      "application/vnd.jupyter.widget-view+json": {
       "model_id": "7bec27f2120246fe8e456677a8a25c42",
       "version_major": 2,
       "version_minor": 0
      },
      "text/plain": [
       "Widget(value=\"<iframe src='http://localhost:49181/index.html?ui=P_0x7fe25cde4430_43&reconnect=auto' style='wid…"
      ]
     },
     "metadata": {},
     "output_type": "display_data"
    }
   ],
   "source": [
    "idx = 0\n",
    "pf = pial_fnames[subjects[1]]\n",
    "plotter = pv.Plotter(shape=(4, 3),window_size=(1000, 1000))\n",
    "for file in pf:\n",
    "    print(f\"working on {file}\")\n",
    "    generated_pial = pv.read(pf[file])\n",
    "    # Add mesh1 to the first subplot\n",
    "    plotter.subplot(idx//3, idx%3)\n",
    "    text_actor = plotter.add_text(file+' 3', position='upper_edge')\n",
    "    text_actor.GetTextProperty().SetFontSize(2) \n",
    "    # Change color and make the mesh semi-transparent\n",
    "    plotter.add_mesh(generated_pial, color='white')\n",
    "\n",
    "    # Set background color\n",
    "#     plotter.set_background('white')\n",
    "    idx += 1\n",
    "pf = pial_fnames[subjects[3]]\n",
    "idx += 1\n",
    "for file in pf:\n",
    "    print(f\"working on {file}\")\n",
    "    generated_pial = pv.read(pf[file])\n",
    "    # Add mesh1 to the first subplot\n",
    "    plotter.subplot(idx//3, idx%3)\n",
    "    plotter.add_text(file+' 4', position='upper_edge')\n",
    "    # Change color and make the mesh semi-transparent\n",
    "    plotter.add_mesh(generated_pial, color='white')\n",
    "\n",
    "    # Set background color\n",
    "#     plotter.set_background('white')\n",
    "    idx += 1\n",
    "# Link the camera position of all subplots\n",
    "plotter.link_views()\n",
    "# Render the plot\n",
    "plotter.show()\n"
   ]
  },
  {
   "cell_type": "markdown",
   "id": "53db33a9",
   "metadata": {},
   "source": [
    "# white"
   ]
  },
  {
   "cell_type": "code",
   "execution_count": 71,
   "id": "899d7294",
   "metadata": {},
   "outputs": [],
   "source": [
    "pw = 'white'\n",
    "pial_fnames = defaultdict(dict)\n",
    "for model in whites:\n",
    "    for subject in subjects:\n",
    "        pial_fnames[subject][model]=f'data-jul7/{model}-{subject}-lh_{pw}-rm.stl'"
   ]
  },
  {
   "cell_type": "code",
   "execution_count": 58,
   "id": "cd67327c",
   "metadata": {},
   "outputs": [
    {
     "name": "stdout",
     "output_type": "stream",
     "text": [
      "working on cortexode\n",
      "working on corticalflow\n",
      "working on deepcsr\n",
      "working on vox2cortex\n",
      "working on freesurfer\n",
      "working on topofit\n",
      "working on cortexode\n",
      "working on corticalflow\n",
      "working on deepcsr\n",
      "working on vox2cortex\n",
      "working on freesurfer\n",
      "working on topofit\n"
     ]
    },
    {
     "data": {
      "application/vnd.jupyter.widget-view+json": {
       "model_id": "afe8b1485dad42ab917c7204016dcb90",
       "version_major": 2,
       "version_minor": 0
      },
      "text/plain": [
       "Widget(value=\"<iframe src='http://localhost:49181/index.html?ui=P_0x7fe27ffc59a0_45&reconnect=auto' style='wid…"
      ]
     },
     "metadata": {},
     "output_type": "display_data"
    }
   ],
   "source": [
    "idx = 0\n",
    "pf = pial_fnames[subjects[1]]\n",
    "plotter = pv.Plotter(shape=(4, 3),window_size=(1000, 1000))\n",
    "for file in pf:\n",
    "    print(f\"working on {file}\")\n",
    "    generated_pial = pv.read(pf[file])\n",
    "    # Add mesh1 to the first subplot\n",
    "    plotter.subplot(idx//3, idx%3)\n",
    "    text_actor = plotter.add_text(file+' 3', position='upper_edge')\n",
    "    text_actor.GetTextProperty().SetFontSize(2) \n",
    "    # Change color and make the mesh semi-transparent\n",
    "    plotter.add_mesh(generated_pial, color='white')\n",
    "\n",
    "    # Set background color\n",
    "#     plotter.set_background('white')\n",
    "    idx += 1\n",
    "pf = pial_fnames[subjects[3]]\n",
    "\n",
    "for file in pf:\n",
    "    print(f\"working on {file}\")\n",
    "    generated_pial = pv.read(pf[file])\n",
    "    # Add mesh1 to the first subplot\n",
    "    plotter.subplot(idx//3, idx%3)\n",
    "    plotter.add_text(file+' 4', position='upper_edge')\n",
    "    # Change color and make the mesh semi-transparent\n",
    "    plotter.add_mesh(generated_pial, color='white')\n",
    "\n",
    "    # Set background color\n",
    "#     plotter.set_background('white')\n",
    "    idx += 1\n",
    "# Link the camera position of all subplots\n",
    "plotter.link_views()\n",
    "# Render the plot\n",
    "plotter.show()"
   ]
  },
  {
   "cell_type": "markdown",
   "id": "54ae5894",
   "metadata": {},
   "source": [
    "# plot cortexode"
   ]
  },
  {
   "cell_type": "code",
   "execution_count": 59,
   "id": "9370e1f1",
   "metadata": {},
   "outputs": [
    {
     "data": {
      "text/plain": [
       "defaultdict(dict,\n",
       "            {'206222': {'cortexode': 'data-jul7/cortexode-206222-lh_white-rm.stl',\n",
       "              'corticalflow': 'data-jul7/corticalflow-206222-lh_white-rm.stl',\n",
       "              'deepcsr': 'data-jul7/deepcsr-206222-lh_white-rm.stl',\n",
       "              'vox2cortex': 'data-jul7/vox2cortex-206222-lh_white-rm.stl',\n",
       "              'freesurfer': 'data-jul7/freesurfer-206222-lh_white-rm.stl',\n",
       "              'topofit': 'data-jul7/topofit-206222-lh_white-rm.stl'},\n",
       "             '286650': {'cortexode': 'data-jul7/cortexode-286650-lh_white-rm.stl',\n",
       "              'corticalflow': 'data-jul7/corticalflow-286650-lh_white-rm.stl',\n",
       "              'deepcsr': 'data-jul7/deepcsr-286650-lh_white-rm.stl',\n",
       "              'vox2cortex': 'data-jul7/vox2cortex-286650-lh_white-rm.stl',\n",
       "              'freesurfer': 'data-jul7/freesurfer-286650-lh_white-rm.stl',\n",
       "              'topofit': 'data-jul7/topofit-286650-lh_white-rm.stl'},\n",
       "             '299154': {'cortexode': 'data-jul7/cortexode-299154-lh_white-rm.stl',\n",
       "              'corticalflow': 'data-jul7/corticalflow-299154-lh_white-rm.stl',\n",
       "              'deepcsr': 'data-jul7/deepcsr-299154-lh_white-rm.stl',\n",
       "              'vox2cortex': 'data-jul7/vox2cortex-299154-lh_white-rm.stl',\n",
       "              'freesurfer': 'data-jul7/freesurfer-299154-lh_white-rm.stl',\n",
       "              'topofit': 'data-jul7/topofit-299154-lh_white-rm.stl'},\n",
       "             '236130': {'cortexode': 'data-jul7/cortexode-236130-lh_white-rm.stl',\n",
       "              'corticalflow': 'data-jul7/corticalflow-236130-lh_white-rm.stl',\n",
       "              'deepcsr': 'data-jul7/deepcsr-236130-lh_white-rm.stl',\n",
       "              'vox2cortex': 'data-jul7/vox2cortex-236130-lh_white-rm.stl',\n",
       "              'freesurfer': 'data-jul7/freesurfer-236130-lh_white-rm.stl',\n",
       "              'topofit': 'data-jul7/topofit-236130-lh_white-rm.stl'}})"
      ]
     },
     "execution_count": 59,
     "metadata": {},
     "output_type": "execute_result"
    }
   ],
   "source": [
    "pial_fnames"
   ]
  },
  {
   "cell_type": "code",
   "execution_count": 80,
   "id": "ef48ce48",
   "metadata": {
    "scrolled": false
   },
   "outputs": [
    {
     "data": {
      "application/vnd.jupyter.widget-view+json": {
       "model_id": "aacf4a80758a42c99af76c56c0308c8f",
       "version_major": 2,
       "version_minor": 0
      },
      "text/plain": [
       "Widget(value=\"<iframe src='http://localhost:49181/index.html?ui=P_0x7fe30a187610_68&reconnect=auto' style='wid…"
      ]
     },
     "metadata": {},
     "output_type": "display_data"
    }
   ],
   "source": [
    "pw = 'white'\n",
    "pial_fnames = defaultdict(dict)\n",
    "for model in whites:\n",
    "    for subject in subjects:\n",
    "        pial_fnames[subject][model]=f'data-jul7/{model}-{subject}-lh_{pw}-rm.stl'\n",
    "        \n",
    "\n",
    "pf = [pial_fnames[subjects[0]]['cortexode'],pial_fnames[subjects[1]]['cortexode'], pial_fnames[subjects[2]]['cortexode'],pial_fnames[subjects[3]]['cortexode']]\n",
    "plotter = pv.Plotter(shape=(1, 1),window_size=(600, 600))\n",
    "idx = 0  \n",
    "      \n",
    "for file in pf:\n",
    "    \n",
    "    generated_pial = pv.read(file)\n",
    "    # Add mesh1 to the first subplot\n",
    "    plotter.subplot(0, idx)\n",
    "    \n",
    "    plotter.add_mesh(generated_pial, color='white')\n",
    "\n",
    "    # Set background color\n",
    "#     plotter.set_background('white')\n",
    "    idx += 1\n",
    "    break\n",
    "    \n",
    "    \n",
    "# pw = 'pial'\n",
    "# pial_fnames = defaultdict(dict)\n",
    "# for model in pials:\n",
    "#     for subject in subjects:\n",
    "#         pial_fnames[subject][model]=f'data-jul7/{model}-{subject}-lh_{pw}-rm.stl'\n",
    "    \n",
    "# pf = [pial_fnames[subjects[0]]['cortexode'],pial_fnames[subjects[1]]['cortexode'], pial_fnames[subjects[2]]['cortexode'],pial_fnames[subjects[3]]['cortexode']]\n",
    "      \n",
    "# for file in pf:\n",
    "    \n",
    "#     generated_pial = pv.read(file)\n",
    "#     # Add mesh1 to the first subplot\n",
    "#     plotter.subplot(1, idx % 4)\n",
    "    \n",
    "#     plotter.add_mesh(generated_pial, color='white')\n",
    "\n",
    "#     # Set background color\n",
    "# #     plotter.set_background('white')\n",
    "#     idx += 1\n",
    "\n",
    "# plotter.link_views()\n",
    "# # Render the plot\n",
    "plotter.show()"
   ]
  },
  {
   "cell_type": "code",
   "execution_count": 68,
   "id": "5c978923",
   "metadata": {},
   "outputs": [],
   "source": [
    "pw = 'pial'\n",
    "pial_fnames = defaultdict(dict)\n",
    "for model in pials:\n",
    "    for subject in subjects:\n",
    "        pial_fnames[subject][model]=f'data-jul7/{model}-{subject}-lh_{pw}-rm.stl'"
   ]
  },
  {
   "cell_type": "code",
   "execution_count": 69,
   "id": "8bd1e54d",
   "metadata": {},
   "outputs": [
    {
     "data": {
      "application/vnd.jupyter.widget-view+json": {
       "model_id": "2ded545f4e7f421e8f31f6b4f5ae9acf",
       "version_major": 2,
       "version_minor": 0
      },
      "text/plain": [
       "Widget(value=\"<iframe src='http://localhost:49181/index.html?ui=P_0x7fe22f3633a0_52&reconnect=auto' style='wid…"
      ]
     },
     "metadata": {},
     "output_type": "display_data"
    }
   ],
   "source": [
    "idx = 0\n"
   ]
  },
  {
   "cell_type": "code",
   "execution_count": null,
   "id": "a65623ac",
   "metadata": {},
   "outputs": [],
   "source": []
  },
  {
   "cell_type": "code",
   "execution_count": 32,
   "id": "07e93dae",
   "metadata": {
    "scrolled": false
   },
   "outputs": [
    {
     "name": "stdout",
     "output_type": "stream",
     "text": [
      "working on cortexode\n",
      "working on corticalflow\n",
      "working on deepcsr\n",
      "working on vox2cortex\n",
      "working on freesurfer\n"
     ]
    },
    {
     "data": {
      "application/vnd.jupyter.widget-view+json": {
       "model_id": "3048420faa9c4513bec0702dabab3832",
       "version_major": 2,
       "version_minor": 0
      },
      "text/plain": [
       "Widget(value=\"<iframe src='http://localhost:49181/index.html?ui=P_0x7fe3bae30370_22&reconnect=auto' style='wid…"
      ]
     },
     "metadata": {},
     "output_type": "display_data"
    }
   ],
   "source": [
    "idx = 0\n",
    "pf = pial_fnames[subjects[3]]\n",
    "plotter = pv.Plotter(shape=(2, 3))\n",
    "for file in pf:\n",
    "    print(f\"working on {file}\")\n",
    "    generated_pial = pv.read(pf[file])\n",
    "    # Add mesh1 to the first subplot\n",
    "    plotter.subplot(idx//3, idx%3)\n",
    "    plotter.add_text(file, position='upper_edge')\n",
    "    # Change color and opacity\n",
    "    plotter.add_mesh(generated_pial, color='white', opacity=1.0)\n",
    "    # Add a light source\n",
    "    light = pv.Light(position=(10, 10, 10), color='white', intensity=0.1)\n",
    "    plotter.add_light(light)\n",
    "    # Set background color\n",
    "    plotter.set_background('black')\n",
    "    idx += 1\n",
    "# Link the camera position of all subplots\n",
    "plotter.link_views()\n",
    "# Render the plot\n",
    "plotter.show()\n"
   ]
  },
  {
   "cell_type": "code",
   "execution_count": 28,
   "id": "88e4783a",
   "metadata": {},
   "outputs": [
    {
     "name": "stdout",
     "output_type": "stream",
     "text": [
      "working on cortexode\n",
      "working on corticalflow\n",
      "working on deepcsr\n",
      "working on vox2cortex\n",
      "working on freesurfer\n"
     ]
    },
    {
     "data": {
      "application/vnd.jupyter.widget-view+json": {
       "model_id": "ed4afcf3da6a4811979172568177bfcf",
       "version_major": 2,
       "version_minor": 0
      },
      "text/plain": [
       "Widget(value=\"<iframe src='http://localhost:49181/index.html?ui=P_0x7fe378a52130_19&reconnect=auto' style='wid…"
      ]
     },
     "metadata": {},
     "output_type": "display_data"
    }
   ],
   "source": [
    "\n",
    "idx = 0\n",
    "pf = pial_fnames[subjects[3]]\n",
    "plotter = pv.Plotter(shape=(2, 3),window_size=(800, 600))\n",
    "for file in pf:\n",
    "    print(f\"working on {file}\")\n",
    "    generated_pial = pv.read(pf[file])\n",
    "    # Add mesh1 to the first subplot\n",
    "    plotter.subplot(idx//3, idx%3)\n",
    "    plotter.add_text(file, position='upper_edge')\n",
    "    plotter.add_mesh(generated_pial)\n",
    "    light = pv.Light()\n",
    "    plotter.add_light(light)\n",
    "#     plotter.add_mesh(fs_pial, color='g', opacity=0.9)\n",
    "    idx += 1\n",
    "# Link the camera position of all subplots\n",
    "plotter.link_views()\n",
    "# Render the plot\n",
    "plotter.show()"
   ]
  },
  {
   "cell_type": "code",
   "execution_count": null,
   "id": "980c2bda",
   "metadata": {},
   "outputs": [],
   "source": [
    "import remove_medial_wall as rmw\n",
    "import pyvista as pv\n",
    "import pickle as pkl\n",
    "\n",
    "pial_fnames = {\n",
    "    \"cortexode\": \"201818/cortexode/pp.stl\",\n",
    "    \"deepcsr\": \"201818/deepcsr/pp.stl\",\n",
    "    \"corticalflow\": \"201818/corticalflow/pp.stl\",\n",
    "    \"pialnn\": \"201818/pialnn/pp.stl\",\n",
    "    \"vox2cortex\": \"201818/vox2cortex/pp.stl\",\n",
    "    \"freesurfer\": \"201818/freesurfer/pial.stl\"\n",
    "    }\n",
    "mwall_points = 'medialwall-points.pkl'\n",
    "K = 20 # hearest neighbors to remove\n",
    "\n",
    "fs_pial = pv.read(pial_fnames[\"freesurfer\"])\n",
    "with open(mwall_points,'rb') as f:\n",
    "    wall = pkl.load(f)\n",
    "\n",
    "plotter = pv.Plotter(shape=(1, len(pial_fnames)))\n",
    "idx = 0\n",
    "for file in pial_fnames:\n",
    "    print(f\"working on {file}\")\n",
    "    generated_pial_fname = pial_fnames[file]\n",
    "    generated_pial = pv.read(generated_pial_fname)\n",
    "    if file == \"pialnn\":\n",
    "        # **CRUCIAL STEP** for PIALNN\n",
    "        generated_pial = generated_pial.rotate_x(-90)\n",
    "    generated_pial = rmw.alignMeshes(fs_pial, generated_pial, scale=False)\n",
    "    mwall_removed = rmw.minuspatch(generated_pial, wall, K=K)\n",
    "    # Add mesh1 to the first subplot\n",
    "    plotter.subplot(0, idx)\n",
    "    plotter.add_text(file, position='upper_edge')\n",
    "    plotter.add_mesh(mwall_removed, color='white')\n",
    "    plotter.add_mesh(fs_pial, color='g', opacity=0.9)\n",
    "    idx += 1\n",
    "# Link the camera position of all subplots\n",
    "plotter.link_views()\n",
    "# Render the plot\n",
    "plotter.show()"
   ]
  }
 ],
 "metadata": {
  "kernelspec": {
   "display_name": "Python 3 (ipykernel)",
   "language": "python",
   "name": "python3"
  },
  "language_info": {
   "codemirror_mode": {
    "name": "ipython",
    "version": 3
   },
   "file_extension": ".py",
   "mimetype": "text/x-python",
   "name": "python",
   "nbconvert_exporter": "python",
   "pygments_lexer": "ipython3",
   "version": "3.9.7"
  },
  "toc": {
   "base_numbering": 1,
   "nav_menu": {},
   "number_sections": true,
   "sideBar": true,
   "skip_h1_title": false,
   "title_cell": "Table of Contents",
   "title_sidebar": "Contents",
   "toc_cell": false,
   "toc_position": {},
   "toc_section_display": true,
   "toc_window_display": false
  },
  "varInspector": {
   "cols": {
    "lenName": 16,
    "lenType": 16,
    "lenVar": 40
   },
   "kernels_config": {
    "python": {
     "delete_cmd_postfix": "",
     "delete_cmd_prefix": "del ",
     "library": "var_list.py",
     "varRefreshCmd": "print(var_dic_list())"
    },
    "r": {
     "delete_cmd_postfix": ") ",
     "delete_cmd_prefix": "rm(",
     "library": "var_list.r",
     "varRefreshCmd": "cat(var_dic_list()) "
    }
   },
   "types_to_exclude": [
    "module",
    "function",
    "builtin_function_or_method",
    "instance",
    "_Feature"
   ],
   "window_display": false
  }
 },
 "nbformat": 4,
 "nbformat_minor": 5
}

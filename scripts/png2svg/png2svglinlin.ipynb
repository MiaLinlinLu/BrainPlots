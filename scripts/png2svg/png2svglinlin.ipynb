{
 "cells": [
  {
   "cell_type": "code",
   "execution_count": 2,
   "id": "f9fdf436",
   "metadata": {},
   "outputs": [
    {
     "name": "stdout",
     "output_type": "stream",
     "text": [
      "Collecting png2svglinlin\n",
      "  Using cached png2svglinlin-1.0.0.tar.gz (2.6 kB)\n",
      "  Preparing metadata (setup.py) ... \u001b[?25ldone\n",
      "\u001b[?25hRequirement already satisfied: Pillow in /Users/mialu/opt/anaconda3/envs/plot/lib/python3.11/site-packages (from png2svglinlin) (9.5.0)\n",
      "Building wheels for collected packages: png2svglinlin\n",
      "  Building wheel for png2svglinlin (setup.py) ... \u001b[?25ldone\n",
      "\u001b[?25h  Created wheel for png2svglinlin: filename=png2svglinlin-1.0.0-py3-none-any.whl size=2870 sha256=35290184793b9b00c2bfab41980e3e79609e623a78bba30960a17fb1291a27d2\n",
      "  Stored in directory: /Users/mialu/Library/Caches/pip/wheels/18/84/f4/115a93fd5bb489d619f74e6e4d2840f17560dcee1e88da30b7\n",
      "Successfully built png2svglinlin\n",
      "Installing collected packages: png2svglinlin\n",
      "Successfully installed png2svglinlin-1.0.0\n"
     ]
    }
   ],
   "source": [
    "!pip install png2svglinlin"
   ]
  },
  {
   "cell_type": "code",
   "execution_count": 1,
   "id": "eb235bb9",
   "metadata": {},
   "outputs": [],
   "source": [
    "import png2svglinlin"
   ]
  },
  {
   "cell_type": "code",
   "execution_count": 3,
   "id": "af5d8f30",
   "metadata": {},
   "outputs": [],
   "source": [
    "f = 'pialpialnn.png'"
   ]
  },
  {
   "cell_type": "code",
   "execution_count": 4,
   "id": "6a133733",
   "metadata": {},
   "outputs": [],
   "source": [
    "png2svglinlin.Png2Svg(f, 'sss.svg')"
   ]
  },
  {
   "cell_type": "code",
   "execution_count": 112,
   "id": "e7c91ba3",
   "metadata": {
    "scrolled": true
   },
   "outputs": [],
   "source": [
    "import base64\n",
    "from PIL import Image\n",
    "from io import BytesIO\n",
    "import random\n",
    "\n",
    "\n",
    "def png_image_to_base64(image_path):\n",
    "    image = Image.open(image_path)\n",
    "    buffered = BytesIO()\n",
    "    image.save(buffered, format=\"PNG\")\n",
    "    img_base64 = base64.b64encode(buffered.getvalue()).decode(\"utf-8\")\n",
    "    return \"data:image/png;base64,\" + img_base64, image\n",
    "\n",
    "def Png2Svg(image_path, save_file_path,width=None,height=None):\n",
    "    base64, image = png_image_to_base64(image_path)\n",
    "    w,h = image.width, image.height\n",
    "    \n",
    "    if width and height:\n",
    "        w,h = width,height\n",
    "    uniqueid = str(int(random.random()*100000))\n",
    "    \n",
    "    pre = '<svg width=\"{}\" height=\"{}\" xmlns=\"http://www.w3.org/2000/svg\" xmlns:xlink=\"http://www.w3.org/1999/xlink\" xml:space=\"preserve\" overflow=\"hidden\"><image width=\"{}\" height=\"{}\" xlink:href=\"'.format(w,h,w,h)\n",
    "    post = '\" preserveAspectRatio=\"none\" id=\"{}\"></image></svg>'.format(uniqueid)\n",
    "    content = pre + base64 + post\n",
    "\n",
    "    # Open the file in write mode and save the content\n",
    "    with open(save_file_path, \"w\") as file:\n",
    "        file.write(content)"
   ]
  },
  {
   "cell_type": "code",
   "execution_count": 113,
   "id": "2847bcc6",
   "metadata": {},
   "outputs": [],
   "source": [
    "## ----example------\n",
    "# image_path = ''\n",
    "# save_file_path = ''\n",
    "# Png2Svg(image_path, save_file_path,width=None,height=None)"
   ]
  },
  {
   "cell_type": "code",
   "execution_count": null,
   "id": "87c6d6e2",
   "metadata": {},
   "outputs": [],
   "source": []
  }
 ],
 "metadata": {
  "kernelspec": {
   "display_name": "Python 3 (ipykernel)",
   "language": "python",
   "name": "python3"
  },
  "language_info": {
   "codemirror_mode": {
    "name": "ipython",
    "version": 3
   },
   "file_extension": ".py",
   "mimetype": "text/x-python",
   "name": "python",
   "nbconvert_exporter": "python",
   "pygments_lexer": "ipython3",
   "version": "3.9.7"
  },
  "toc": {
   "base_numbering": 1,
   "nav_menu": {},
   "number_sections": true,
   "sideBar": true,
   "skip_h1_title": false,
   "title_cell": "Table of Contents",
   "title_sidebar": "Contents",
   "toc_cell": false,
   "toc_position": {},
   "toc_section_display": true,
   "toc_window_display": false
  },
  "varInspector": {
   "cols": {
    "lenName": 16,
    "lenType": 16,
    "lenVar": 40
   },
   "kernels_config": {
    "python": {
     "delete_cmd_postfix": "",
     "delete_cmd_prefix": "del ",
     "library": "var_list.py",
     "varRefreshCmd": "print(var_dic_list())"
    },
    "r": {
     "delete_cmd_postfix": ") ",
     "delete_cmd_prefix": "rm(",
     "library": "var_list.r",
     "varRefreshCmd": "cat(var_dic_list()) "
    }
   },
   "types_to_exclude": [
    "module",
    "function",
    "builtin_function_or_method",
    "instance",
    "_Feature"
   ],
   "window_display": false
  }
 },
 "nbformat": 4,
 "nbformat_minor": 5
}

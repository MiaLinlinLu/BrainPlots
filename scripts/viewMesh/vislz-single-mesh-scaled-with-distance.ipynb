{
 "cells": [
  {
   "cell_type": "code",
   "execution_count": 1,
   "id": "68300604",
   "metadata": {},
   "outputs": [],
   "source": [
    "import os\n",
    "import colorcet as cc\n",
    "from colour import Color\n",
    "\n",
    "from matplotlib.colors import ListedColormap\n",
    "import matplotlib.pyplot as plt\n",
    "import matplotlib as mpl\n",
    "\n",
    "import numpy as np\n",
    "\n",
    "import pymeshlab as ml\n",
    "\n",
    "import pyvista as pv\n",
    "from pyvista import examples\n",
    "\n",
    "\n",
    "from collections import defaultdict\n",
    "\n",
    "from colorspacious import cspace_converter\n",
    "pv.global_theme.transparent_background = True"
   ]
  },
  {
   "cell_type": "markdown",
   "id": "b100473e",
   "metadata": {},
   "source": [
    "## Get hausdorff distance for models1, models2"
   ]
  },
  {
   "cell_type": "markdown",
   "id": "5a105b88",
   "metadata": {},
   "source": [
    "### convert"
   ]
  },
  {
   "cell_type": "code",
   "execution_count": 2,
   "id": "3a8da9fe",
   "metadata": {},
   "outputs": [],
   "source": [
    "#---------convert files to .stl-----------------\n",
    "# tmp = os.listdir()\n",
    "# import meshio\n",
    "# fnames = ['pialnn/pp.obj','pialnn/tp.obj','vox2cortex/pp.ply','vox2cortex/pw.ply','vox2cortex/tp.ply','vox2cortex/tw.ply']\n",
    "# for fname in fnames:\n",
    "#     mesh = meshio.read(pre+fname)\n",
    "#     meshio.write(pre+fname[:-4]+'.stl', mesh, file_format=\"stl\")"
   ]
  },
  {
   "cell_type": "markdown",
   "id": "747159b5",
   "metadata": {},
   "source": [
    "### prepare data"
   ]
  },
  {
   "cell_type": "code",
   "execution_count": 3,
   "id": "4969862e",
   "metadata": {
    "scrolled": false
   },
   "outputs": [],
   "source": [
    "pre = '../../data/201818/'\n",
    "\n",
    "\n",
    "models1 = ['cortexode','corticalflow','deepcsr','pialnn','vox2cortex']\n",
    "models2 = ['cortexode','corticalflow','deepcsr','topofit','vox2cortex']\n",
    "\n",
    "fs = ['tp.stl', 'pp.stl', 'tw.stl', 'pw.stl']\n",
    "file_truths1 = [pre+'./'+m+'/'+fs[0] for m in models1]\n",
    "files1 = [pre+'./'+m+'/'+fs[1] for m in models1]\n",
    "\n",
    "file_truths2 = [pre+'./'+m+'/'+fs[2] for m in models2]\n",
    "files2 = [pre+'./'+m+'/'+fs[3] for m in models2]\n",
    "\n"
   ]
  },
  {
   "cell_type": "code",
   "execution_count": 6,
   "id": "38c11449",
   "metadata": {},
   "outputs": [
    {
     "data": {
      "text/plain": [
       "['../../data/201818/./cortexode/pp.stl',\n",
       " '../../data/201818/./corticalflow/pp.stl',\n",
       " '../../data/201818/./deepcsr/pp.stl',\n",
       " '../../data/201818/./pialnn/pp.stl',\n",
       " '../../data/201818/./vox2cortex/pp.stl']"
      ]
     },
     "execution_count": 6,
     "metadata": {},
     "output_type": "execute_result"
    }
   ],
   "source": [
    "files1"
   ]
  },
  {
   "cell_type": "code",
   "execution_count": 7,
   "id": "40623951",
   "metadata": {},
   "outputs": [
    {
     "data": {
      "text/plain": [
       "['../../data/201818/./cortexode/pw.stl',\n",
       " '../../data/201818/./corticalflow/pw.stl',\n",
       " '../../data/201818/./deepcsr/pw.stl',\n",
       " '../../data/201818/./topofit/pw.stl',\n",
       " '../../data/201818/./vox2cortex/pw.stl']"
      ]
     },
     "execution_count": 7,
     "metadata": {},
     "output_type": "execute_result"
    }
   ],
   "source": [
    "files2"
   ]
  },
  {
   "cell_type": "markdown",
   "id": "a835204f",
   "metadata": {},
   "source": [
    "### helper functions"
   ]
  },
  {
   "cell_type": "code",
   "execution_count": 8,
   "id": "e4df5cac",
   "metadata": {},
   "outputs": [],
   "source": [
    "def calc_distance():\n",
    "    \"\"\"\n",
    "    return mesh with distance as an attribute\n",
    "    \"\"\"\n",
    "    ms = ml.MeshSet()\n",
    "    ms.load_new_mesh(file_truth)\n",
    "    ms.load_new_mesh(file)\n",
    "    ms.compute_scalar_by_distance_from_another_mesh_per_vertex()\n",
    "    ms.compute_color_from_scalar_per_vertex()\n",
    "    return ms\n",
    "\n",
    "def calc_hausdorff_distance(file_truth, file):\n",
    "    \"\"\"\n",
    "    return Hausdorff distance.\n",
    "    \"\"\"\n",
    "    ms = ml.MeshSet()\n",
    "    ms.load_new_mesh(file_truth)\n",
    "    ms.load_new_mesh(file)\n",
    "    d = ms.get_hausdorff_distance()\n",
    "    return d \n",
    "\n",
    "def get_hdd(files,file_truths):\n",
    "    \"\"\"\n",
    "    return Hausdorff Distance for multiple files.\n",
    "    \"\"\"\n",
    "    tmps = []\n",
    "    for i in range(len(files)):\n",
    "        file_truth = file_truths[i]\n",
    "        file = files[i]\n",
    "        d = calc_hausdorff_distance(file_truth, file)\n",
    "        tmps.append(d)\n",
    "    return tmps\n",
    "\n",
    "def calculate_tmp(tmp, d, attr,way='william'):\n",
    "    \"\"\"\n",
    "    normalize the distance values by percentage of attr ('diag_mesh0')\n",
    "    \"\"\"\n",
    "    if way=='william':\n",
    "        return [abs(j)/d[attr]*100 for j in tmp] # normalize with diag_mesh distance\n",
    "    return [abs(j) for j in tmp]\n",
    "\n",
    "\n",
    "def truncate_tmp(tmp,lower_percentile=5, higher_percentile = 95):  \n",
    "    \"\"\"\n",
    "    remove the 'outliers' in distance\n",
    "    \"\"\"\n",
    "    print('max of distance before truncation is : ',max(tmp))\n",
    "    minz = np.percentile(tmp, lower_percentile)\n",
    "    maxz = np.percentile(tmp, higher_percentile)\n",
    "    # truncate it between minz and maxz\n",
    "    tmp = [max(max(i, minz),min(i,maxz)) for i in tmp]\n",
    "    return tmp\n",
    "\n",
    "def maximize_tmp(mses, tmps, maximize=True, MAX_VALUE = 1.8):\n",
    "    \"\"\"\n",
    "    modify mesh distance values to include the same MAX_VALUE as its max_value\n",
    "    \"\"\"\n",
    "    if maximize:\n",
    "        for i in range(len(tmps)):\n",
    "            # modify tmp value to include the same MAX_VALUE as its max_value\n",
    "            tmps[i] = [min(j, MAX_VALUE) for j in tmps[i]]\n",
    "            idx = tmps[i].index(max(tmps[i]))\n",
    "            tmps[i][idx] = MAX_VALUE\n",
    "            # assign tmp values to mesh\n",
    "            mses[i]['values'] = tmps[i]\n",
    "    return mses, tmps\n",
    "    \n",
    "\n",
    "def getit(files,file_truths,d,attr,MAX_VALUE=4.5):\n",
    "    \"\"\"\n",
    "    main function\n",
    "    \"\"\"\n",
    "    tmps = []\n",
    "    mses = []\n",
    "    for i in range(len(files)):\n",
    "#         plt.subplot(5,1,i+1)\n",
    "        file_truth = file_truths[i]\n",
    "        file = files[i]\n",
    "        ms2 = ml.MeshSet()\n",
    "        ms2.load_new_mesh(file_truth)\n",
    "        ms2.load_new_mesh(file)\n",
    "        ms2.compute_scalar_by_distance_from_another_mesh_per_vertex()\n",
    "        ms2.compute_color_from_scalar_per_vertex()\n",
    "        ms2.apply_color_inverse_per_vertex()\n",
    "\n",
    "        tmp = list(ms2[1].vertex_scalar_array())\n",
    "        tmp = calculate_tmp(tmp,d[i], attr)\n",
    "        tmp = truncate_tmp(tmp)\n",
    "        tmps.append(tmp)\n",
    "        \n",
    "        mesh = pv.read(file)\n",
    "        mses.append(mesh)\n",
    "        \n",
    "    mses,tmps = maximize_tmp(mses,tmps)\n",
    "    distance = tmps\n",
    "    return mses, distance"
   ]
  },
  {
   "cell_type": "markdown",
   "id": "eadb1c63",
   "metadata": {},
   "source": [
    "## Get the Coloring Values: tmp1, tmp2"
   ]
  },
  {
   "cell_type": "markdown",
   "id": "f1d6b2c3",
   "metadata": {},
   "source": [
    "### get (hausdorff) distance"
   ]
  },
  {
   "cell_type": "code",
   "execution_count": 9,
   "id": "dd16212a",
   "metadata": {
    "scrolled": true
   },
   "outputs": [],
   "source": [
    "d1 = get_hdd(files1, file_truths1)\n",
    "d2 = get_hdd(files2, file_truths2)"
   ]
  },
  {
   "cell_type": "code",
   "execution_count": 10,
   "id": "2c4fb1b5",
   "metadata": {},
   "outputs": [
    {
     "name": "stdout",
     "output_type": "stream",
     "text": [
      "max of distance before truncation is :  6.04252876311079\n",
      "max of distance before truncation is :  2.099364022693511\n",
      "max of distance before truncation is :  2.169705077863622\n",
      "max of distance before truncation is :  1.7714791422515495\n",
      "max of distance before truncation is :  1.2495406642202718\n",
      "max of distance before truncation is :  6.180894003732273\n",
      "max of distance before truncation is :  3.4294845901979683\n",
      "max of distance before truncation is :  4.128479694645356\n",
      "max of distance before truncation is :  1.3262658326035814\n",
      "max of distance before truncation is :  1.9227369635716376\n"
     ]
    }
   ],
   "source": [
    "attr = 'diag_mesh_0'\n",
    "mses1, tmps1 = getit(files1,file_truths1,d1,attr)\n",
    "mses2, tmps2 = getit(files2,file_truths2,d2,attr)"
   ]
  },
  {
   "cell_type": "markdown",
   "id": "1d00c70c",
   "metadata": {},
   "source": [
    "## Visualize the distance/diag_mesh_0"
   ]
  },
  {
   "cell_type": "code",
   "execution_count": 11,
   "id": "2d226864",
   "metadata": {},
   "outputs": [],
   "source": [
    "def plt_tmp(tmps,suptitle,models):\n",
    "    plt.figure(figsize=(15,4))\n",
    "    plt.suptitle(suptitle)\n",
    "    for i in range(1,6):\n",
    "        plt.subplot(1,5,i)\n",
    "        data = tmps[i-1]\n",
    "        plt.hist(data,bins = 30, weights=np.ones_like(data) / len(data))\n",
    "        plt.xlim(-0.5,3)\n",
    "        plt.ylim(0,1)\n",
    "        plt.title(models[i-1])\n",
    "        plt.xlabel('distance/diag (%)')\n",
    "        plt.ylabel('vertex counts Frequency')\n",
    "        \n",
    "# plt_tmp(tmps1,'pial',models1)\n",
    "# plt_tmp(tmps2,'white',models2)"
   ]
  },
  {
   "cell_type": "code",
   "execution_count": 12,
   "id": "4d4824cd",
   "metadata": {},
   "outputs": [
    {
     "data": {
      "image/png": "[encoded data removed]",
      "text/plain": [
       "<Figure size 1080x288 with 5 Axes>"
      ]
     },
     "metadata": {
      "needs_background": "light"
     },
     "output_type": "display_data"
    }
   ],
   "source": [
    "plt_tmp(tmps1,'pial',models1)"
   ]
  },
  {
   "cell_type": "code",
   "execution_count": 13,
   "id": "0eb13ea7",
   "metadata": {},
   "outputs": [
    {
     "data": {
      "image/png": "[encoded data removed]",
      "text/plain": [
       "<Figure size 1080x288 with 5 Axes>"
      ]
     },
     "metadata": {
      "needs_background": "light"
     },
     "output_type": "display_data"
    }
   ],
   "source": [
    "plt_tmp(tmps2,'white',models2)"
   ]
  },
  {
   "cell_type": "code",
   "execution_count": 14,
   "id": "6667f64f",
   "metadata": {},
   "outputs": [
    {
     "name": "stdout",
     "output_type": "stream",
     "text": [
      "0.19583986127463665 0.007981503941544234\n",
      "0.16942744531738582 0.009335837164931087\n",
      "0.13615797942116406 0.009404336575772394\n",
      "0.2056617216881602 0.012170800523864525\n",
      "0.10849997635378301 0.007293770709407603\n"
     ]
    }
   ],
   "source": [
    "for i in tmps1:\n",
    "    print(np.mean(i),min(i))"
   ]
  },
  {
   "cell_type": "markdown",
   "id": "a7f1fd1a",
   "metadata": {},
   "source": [
    "## Visualize brain and save as PNG"
   ]
  },
  {
   "cell_type": "markdown",
   "id": "7b31f2b6",
   "metadata": {},
   "source": [
    "### Play with ColorMap"
   ]
  },
  {
   "cell_type": "code",
   "execution_count": 15,
   "id": "0613e3b2",
   "metadata": {},
   "outputs": [],
   "source": [
    "cmap=mpl.colormaps['inferno']"
   ]
  },
  {
   "cell_type": "code",
   "execution_count": 16,
   "id": "ef156e17",
   "metadata": {},
   "outputs": [
    {
     "data": {
      "image/png": "[encoded data removed]",
      "text/html": [
       "<div style=\"vertical-align: middle;\"><strong>inferno</strong> </div><div class=\"cmap\"><img alt=\"inferno colormap\" title=\"inferno\" style=\"border: 1px solid #555;\" src=\"data:image/png;base64,iVBORw0KGgoAAAANSUhEUgAAAgAAAABACAYAAABsv8+/AAAAFnRFWHRUaXRsZQBpbmZlcm5vIGNvbG9ybWFwTalGwAAAABx0RVh0RGVzY3JpcHRpb24AaW5mZXJubyBjb2xvcm1hcOqH97kAAAAwdEVYdEF1dGhvcgBNYXRwbG90bGliIHYzLjUuMCwgaHR0cHM6Ly9tYXRwbG90bGliLm9yZ1I8XsEAAAAydEVYdFNvZnR3YXJlAE1hdHBsb3RsaWIgdjMuNS4wLCBodHRwczovL21hdHBsb3RsaWIub3JnfJrB5gAAAj5JREFUeJzt1kty2zAQBUAAVO5/YzGLCHRhaFhytq97o5oPQMouu15v7Thba621/u+jjVf1qvso/WPp99mve33dv+rNubk3bvNjqUep5/nRyl6t6z3l+4xz7X/NS/98N+9lPuv6uZu3td/X+fVb6mW/1HP+tV/vbeX8/+79XH+8186P7v96j3PzXudn92/uuZ57u7/u1eecvzu33as/h9o/yz31+5V52+zf3mOt7895U2/fr/THrJ8fPe+35/vYnB/P7++/7T9fP6A3e+P547zN+eZcq+fG/De8nmv1+9b+5r76/NY35679Vt5/7V/zUt//AGd/1uPDunz2Tb98nuPYzI/X/F3/KP31vnM7L3V/lPmj7G3q/ij7tf9n6fe+znvp901/XPNjqeevCwAIIgAAQCABAAACCQAAEEgAAIBAAgAABBIAACCQAAAAgQQAAAgkAABAIAEAAAIJAAAQSAAAgEACAAAEEgAAIJAAAACBBAAACCQAAEAgAQAAAgkAABBIAACAQAIAAAQSAAAgkAAAAIEEAAAIJAAAQCABAAACCQAAEEgAAIBAAgAABBIAACCQAAAAgQQAAAgkAABAIAEAAAIJAAAQSAAAgEACAAAEEgAAIJAAAACBBAAACCQAAEAgAQAAAgkAABBIAACAQAIAAAQSAAAgkAAAAIEEAAAIJAAAQCABAAACCQAAEEgAAIBAAgAABBIAACCQAAAAgQQAAAgkAABAIAEAAAIJAAAQSAAAgEACAAAEEgAAINBfNHptHZCXMAEAAAAASUVORK5CYII=\"></div><div style=\"vertical-align: middle; max-width: 514px; display: flex; justify-content: space-between;\"><div style=\"float: left;\"><div title=\"#000004ff\" style=\"display: inline-block; width: 1em; height: 1em; margin: 0; vertical-align: middle; border: 1px solid #555; background-color: #000004ff;\"></div> under</div><div style=\"margin: 0 auto; display: inline-block;\">bad <div title=\"#00000000\" style=\"display: inline-block; width: 1em; height: 1em; margin: 0; vertical-align: middle; border: 1px solid #555; background-color: #00000000;\"></div></div><div style=\"float: right;\">over <div title=\"#fcffa4ff\" style=\"display: inline-block; width: 1em; height: 1em; margin: 0; vertical-align: middle; border: 1px solid #555; background-color: #fcffa4ff;\"></div></div>"
      ],
      "text/plain": [
       "<matplotlib.colors.ListedColormap at 0x7fb5d9f0a3a0>"
      ]
     },
     "execution_count": 16,
     "metadata": {},
     "output_type": "execute_result"
    }
   ],
   "source": [
    "cmap"
   ]
  },
  {
   "cell_type": "markdown",
   "id": "9f61a460",
   "metadata": {},
   "source": [
    "#### Linear Colors "
   ]
  },
  {
   "cell_type": "code",
   "execution_count": 17,
   "id": "f004694e",
   "metadata": {},
   "outputs": [],
   "source": [
    "cmap = mpl.colormaps['inferno']\n",
    "n = len(cmap.colors)\n",
    "cs = [36, 72, 109, 145, 182, 218, 255]\n",
    "colors = [cmap.colors[i] for i in cs]\n",
    "colors = [Color(rgb=i) for i in colors]"
   ]
  },
  {
   "cell_type": "code",
   "execution_count": 18,
   "id": "b6820b4e",
   "metadata": {},
   "outputs": [],
   "source": [
    "def getcolormap(colors = colors):\n",
    "    c = colors\n",
    "    ccc = defaultdict(list)\n",
    "    ccc[1] = list(c[0].range_to(c[4],200))\n",
    "    ccc[7] = list(c[4].range_to(c[-1],56))\n",
    "\n",
    "    cccs = []\n",
    "    for k in range(1,8):\n",
    "        ccc[k] = [list(i.get_rgb())+[1] for i in ccc[k]]\n",
    "        cccs += ccc[k]\n",
    "\n",
    "    # Define the colors we want to use\n",
    "    colors = cccs\n",
    "    my_colormap = ListedColormap(np.array(colors))\n",
    "    return my_colormap\n",
    "\n",
    "def seeit(mesh,):\n",
    "    my_colormap = getcolormap()\n",
    "    # Make the colormap from the listed colors\n",
    "    \n",
    "    pl = pv.Plotter()\n",
    "    _ = pl.add_mesh(mesh,cmap=my_colormap)\n",
    "    pl.set_viewup([0,1,0])\n",
    "    pl.show()"
   ]
  },
  {
   "cell_type": "code",
   "execution_count": 19,
   "id": "504bc640",
   "metadata": {},
   "outputs": [
    {
     "data": {
      "application/vnd.jupyter.widget-view+json": {
       "model_id": "1c13876c54714364ba72fe5dac33f8dc",
       "version_major": 2,
       "version_minor": 0
      },
      "text/plain": [
       "Widget(value=\"<iframe src='http://localhost:63203/index.html?ui=P_0x7fb5d9ee16d0_0&reconnect=auto' style='widt…"
      ]
     },
     "metadata": {},
     "output_type": "display_data"
    }
   ],
   "source": [
    "seeit(mses1[0])"
   ]
  },
  {
   "cell_type": "markdown",
   "id": "4e4fb2a4",
   "metadata": {},
   "source": [
    "#### Other ways"
   ]
  },
  {
   "cell_type": "code",
   "execution_count": 16,
   "id": "22319336",
   "metadata": {},
   "outputs": [],
   "source": [
    "cmap = mpl.colormaps['inferno']\n",
    "newcolors = []\n",
    "\n",
    "for i in range(66):\n",
    "    newcolors.append(cmap.colors[i])\n",
    "    newcolors.append(cmap.colors[i])\n",
    "    newcolors.append(cmap.colors[i])\n",
    "        \n",
    "for i in range(80,253):\n",
    "    if i % 3 == 0:\n",
    "        newcolors.append(cmap.colors[i])\n",
    "        \n"
   ]
  },
  {
   "cell_type": "code",
   "execution_count": 17,
   "id": "eb14fbb6",
   "metadata": {},
   "outputs": [],
   "source": [
    "my_colormap = ListedColormap(np.array(newcolors[::-1]))"
   ]
  },
  {
   "cell_type": "markdown",
   "id": "9ffcc2af",
   "metadata": {},
   "source": [
    "### Visualize it"
   ]
  },
  {
   "cell_type": "code",
   "execution_count": 18,
   "id": "9f86f77e",
   "metadata": {},
   "outputs": [],
   "source": [
    "cmap_candidates = [mpl.colormaps['inferno'].reversed(), my_colormap,mpl.colormaps['inferno'] ]\n",
    "def visualize_brain(m = 'pial', models = models1, mses = mses1, scale = 6, cmap_idx = 0):\n",
    "    cmap = cmap_candidates[cmap_idx]\n",
    "    for i in range(len(models)):\n",
    "        viewup1 = [1,0,0]\n",
    "        viewup2 = [0,0,1]\n",
    "        mesh = mses[i]\n",
    "        pl = pv.Plotter()\n",
    "        actor = pl.add_mesh(mesh,cmap=cmap)\n",
    "\n",
    "        pl.set_background('white', all_renderers=False)\n",
    "        pl.remove_scalar_bar()\n",
    "\n",
    "        pl.view_yz()\n",
    "        pl.set_viewup(viewup1)\n",
    "        if i==3 and m == 'pial':\n",
    "            pl.set_viewup(viewup2)\n",
    "\n",
    "        pl.remove_legend()\n",
    "        pl.remove_floors()\n",
    "        pl.remove_bounding_box()\n",
    "        pl.remove_bounds_axes()\n",
    "        pl.update_bounds_axes()\n",
    "        pl.show()\n",
    "        pl.screenshot(m + models[i] + '.png', transparent_background=True, return_img=True, scale=scale)"
   ]
  },
  {
   "cell_type": "code",
   "execution_count": 19,
   "id": "6742b1bf",
   "metadata": {
    "scrolled": false
   },
   "outputs": [
    {
     "name": "stderr",
     "output_type": "stream",
     "text": [
      "\u001b[0m\u001b[33m2023-05-09 11:59:59.568 (  90.722s) [          52D31F]        vtkRenderer.cxx:1172  WARN| vtkOpenGLRenderer (0x7fcf0b80a000): Resetting view-up since view plane normal is parallel\u001b[0m\n"
     ]
    },
    {
     "data": {
      "application/vnd.jupyter.widget-view+json": {
       "model_id": "b87c40214c8b47f4b2e0fd35df84e67a",
       "version_major": 2,
       "version_minor": 0
      },
      "text/plain": [
       "Widget(value=\"<iframe src='http://localhost:51346/index.html?ui=P_0x7fceb0a2fbe0_1&reconnect=auto' style='widt…"
      ]
     },
     "metadata": {},
     "output_type": "display_data"
    },
    {
     "name": "stderr",
     "output_type": "stream",
     "text": [
      "\u001b[0m\u001b[33m2023-05-09 12:00:02.137 (  93.292s) [          52D31F]        vtkRenderer.cxx:1172  WARN| vtkOpenGLRenderer (0x7fcefad15a00): Resetting view-up since view plane normal is parallel\u001b[0m\n"
     ]
    },
    {
     "data": {
      "application/vnd.jupyter.widget-view+json": {
       "model_id": "33085edb7a464310825b628b1f5af5de",
       "version_major": 2,
       "version_minor": 0
      },
      "text/plain": [
       "Widget(value=\"<iframe src='http://localhost:51346/index.html?ui=P_0x7fcf2248a820_2&reconnect=auto' style='widt…"
      ]
     },
     "metadata": {},
     "output_type": "display_data"
    },
    {
     "name": "stderr",
     "output_type": "stream",
     "text": [
      "\u001b[0m\u001b[33m2023-05-09 12:00:04.831 (  95.986s) [          52D31F]        vtkRenderer.cxx:1172  WARN| vtkOpenGLRenderer (0x7fcefbc4bc00): Resetting view-up since view plane normal is parallel\u001b[0m\n"
     ]
    },
    {
     "data": {
      "application/vnd.jupyter.widget-view+json": {
       "model_id": "3b14e2898ada428db588fd9fc21c6a2b",
       "version_major": 2,
       "version_minor": 0
      },
      "text/plain": [
       "Widget(value=\"<iframe src='http://localhost:51346/index.html?ui=P_0x7fcf1199e070_3&reconnect=auto' style='widt…"
      ]
     },
     "metadata": {},
     "output_type": "display_data"
    },
    {
     "name": "stderr",
     "output_type": "stream",
     "text": [
      "\u001b[0m\u001b[33m2023-05-09 12:00:07.338 (  98.492s) [          52D31F]        vtkRenderer.cxx:1172  WARN| vtkOpenGLRenderer (0x7fcefbc9bc00): Resetting view-up since view plane normal is parallel\u001b[0m\n"
     ]
    },
    {
     "data": {
      "application/vnd.jupyter.widget-view+json": {
       "model_id": "6254f08ccef149e28b953bad29be07fe",
       "version_major": 2,
       "version_minor": 0
      },
      "text/plain": [
       "Widget(value=\"<iframe src='http://localhost:51346/index.html?ui=P_0x7fcf1199e100_4&reconnect=auto' style='widt…"
      ]
     },
     "metadata": {},
     "output_type": "display_data"
    },
    {
     "name": "stderr",
     "output_type": "stream",
     "text": [
      "\u001b[0m\u001b[33m2023-05-09 12:00:09.743 ( 100.897s) [          52D31F]        vtkRenderer.cxx:1172  WARN| vtkOpenGLRenderer (0x7fcefbc9c200): Resetting view-up since view plane normal is parallel\u001b[0m\n"
     ]
    },
    {
     "data": {
      "application/vnd.jupyter.widget-view+json": {
       "model_id": "9bce34a4780545fbb371af6c8f49a031",
       "version_major": 2,
       "version_minor": 0
      },
      "text/plain": [
       "Widget(value=\"<iframe src='http://localhost:51346/index.html?ui=P_0x7fceb0a3eeb0_5&reconnect=auto' style='widt…"
      ]
     },
     "metadata": {},
     "output_type": "display_data"
    }
   ],
   "source": [
    "visualize_brain()"
   ]
  },
  {
   "cell_type": "code",
   "execution_count": 39,
   "id": "9c19c06f",
   "metadata": {
    "scrolled": false
   },
   "outputs": [
    {
     "name": "stderr",
     "output_type": "stream",
     "text": [
      "\u001b[0m\u001b[33m2023-05-01 15:23:49.710 (1077.063s) [          3848CB]        vtkRenderer.cxx:1172  WARN| vtkOpenGLRenderer (0x7f7d7c80ec00): Resetting view-up since view plane normal is parallel\u001b[0m\n"
     ]
    },
    {
     "data": {
      "application/vnd.jupyter.widget-view+json": {
       "model_id": "c0e82c58dc2e4be9993e6b97e7cab180",
       "version_major": 2,
       "version_minor": 0
      },
      "text/plain": [
       "Widget(value=\"<iframe src='http://localhost:53795/index.html?ui=P_0x7f7d822c9df0_11&reconnect=auto' style='wid…"
      ]
     },
     "metadata": {},
     "output_type": "display_data"
    },
    {
     "name": "stderr",
     "output_type": "stream",
     "text": [
      "\u001b[0m\u001b[33m2023-05-01 15:23:52.070 (1079.424s) [          3848CB]        vtkRenderer.cxx:1172  WARN| vtkOpenGLRenderer (0x7f7dabb26600): Resetting view-up since view plane normal is parallel\u001b[0m\n"
     ]
    },
    {
     "data": {
      "application/vnd.jupyter.widget-view+json": {
       "model_id": "e4970096ff7b43db95417eecc5f1c148",
       "version_major": 2,
       "version_minor": 0
      },
      "text/plain": [
       "Widget(value=\"<iframe src='http://localhost:53795/index.html?ui=P_0x7f7d822c9460_12&reconnect=auto' style='wid…"
      ]
     },
     "metadata": {},
     "output_type": "display_data"
    },
    {
     "name": "stderr",
     "output_type": "stream",
     "text": [
      "\u001b[0m\u001b[33m2023-05-01 15:23:54.946 (1082.299s) [          3848CB]        vtkRenderer.cxx:1172  WARN| vtkOpenGLRenderer (0x7f7d5c214a00): Resetting view-up since view plane normal is parallel\u001b[0m\n"
     ]
    },
    {
     "data": {
      "application/vnd.jupyter.widget-view+json": {
       "model_id": "b93599b72059449aaa0118a3db61e61b",
       "version_major": 2,
       "version_minor": 0
      },
      "text/plain": [
       "Widget(value=\"<iframe src='http://localhost:53795/index.html?ui=P_0x7f7d85a36850_13&reconnect=auto' style='wid…"
      ]
     },
     "metadata": {},
     "output_type": "display_data"
    },
    {
     "name": "stderr",
     "output_type": "stream",
     "text": [
      "\u001b[0m\u001b[33m2023-05-01 15:23:57.402 (1084.756s) [          3848CB]        vtkRenderer.cxx:1172  WARN| vtkOpenGLRenderer (0x7f7dabb26c00): Resetting view-up since view plane normal is parallel\u001b[0m\n"
     ]
    },
    {
     "data": {
      "application/vnd.jupyter.widget-view+json": {
       "model_id": "a945344d3e6d47fc84ad69d8687118ec",
       "version_major": 2,
       "version_minor": 0
      },
      "text/plain": [
       "Widget(value=\"<iframe src='http://localhost:53795/index.html?ui=P_0x7f7db1a669a0_14&reconnect=auto' style='wid…"
      ]
     },
     "metadata": {},
     "output_type": "display_data"
    },
    {
     "name": "stderr",
     "output_type": "stream",
     "text": [
      "\u001b[0m\u001b[33m2023-05-01 15:23:59.810 (1087.163s) [          3848CB]        vtkRenderer.cxx:1172  WARN| vtkOpenGLRenderer (0x7f7d5c238200): Resetting view-up since view plane normal is parallel\u001b[0m\n"
     ]
    },
    {
     "data": {
      "application/vnd.jupyter.widget-view+json": {
       "model_id": "d430cf31993b4be198700141d627450e",
       "version_major": 2,
       "version_minor": 0
      },
      "text/plain": [
       "Widget(value=\"<iframe src='http://localhost:53795/index.html?ui=P_0x7f7d882cfee0_15&reconnect=auto' style='wid…"
      ]
     },
     "metadata": {},
     "output_type": "display_data"
    }
   ],
   "source": [
    "visualize_brain(m = 'white', models = models2, mses = mses2, scale = 6)"
   ]
  },
  {
   "cell_type": "markdown",
   "id": "a57bd6bd",
   "metadata": {},
   "source": [
    "### Get Legend Plot"
   ]
  },
  {
   "cell_type": "code",
   "execution_count": 41,
   "id": "a3cbf3ef",
   "metadata": {},
   "outputs": [
    {
     "name": "stderr",
     "output_type": "stream",
     "text": [
      "\u001b[0m\u001b[33m2023-05-01 15:24:41.864 (1129.217s) [          3848CB]        vtkRenderer.cxx:1172  WARN| vtkOpenGLRenderer (0x7f7d7c849c00): Resetting view-up since view plane normal is parallel\u001b[0m\n"
     ]
    },
    {
     "data": {
      "application/vnd.jupyter.widget-view+json": {
       "model_id": "fdba13576b0c4f8382ad50967262e5d0",
       "version_major": 2,
       "version_minor": 0
      },
      "text/plain": [
       "Widget(value=\"<iframe src='http://localhost:53795/index.html?ui=P_0x7f7d810b8ee0_16&reconnect=auto' style='wid…"
      ]
     },
     "metadata": {},
     "output_type": "display_data"
    }
   ],
   "source": [
    "cmap = mpl.colormaps['inferno'].reversed()\n",
    "\n",
    "viewup1 = [1,0,0]\n",
    "pv.global_theme.font.color = 'black'\n",
    "mesh = mses1[0]\n",
    "pl = pv.Plotter()\n",
    "actor = pl.add_mesh(mesh,cmap=cmap)\n",
    "\n",
    "pl.set_background('white', all_renderers=False)\n",
    "# pl.remove_scalar_bar()\n",
    "\n",
    "pl.view_yz()\n",
    "pl.set_viewup(viewup1)\n",
    "# pl.remove_actor(actor)\n",
    "# pl.remove_legend()\n",
    "pl.remove_floors()\n",
    "pl.remove_bounding_box()\n",
    "# pl.remove_bounds_axes()\n",
    "# pl.update_bounds_axes()\n",
    "pl.show()"
   ]
  },
  {
   "cell_type": "code",
   "execution_count": 42,
   "id": "8bddcdc9",
   "metadata": {},
   "outputs": [],
   "source": [
    "pl.screenshot('legend.png', transparent_background=True, return_img=False, scale=6)"
   ]
  },
  {
   "cell_type": "code",
   "execution_count": null,
   "id": "02106476",
   "metadata": {},
   "outputs": [],
   "source": []
  }
 ],
 "metadata": {
  "kernelspec": {
   "display_name": "Python 3 (ipykernel)",
   "language": "python",
   "name": "python3"
  },
  "language_info": {
   "codemirror_mode": {
    "name": "ipython",
    "version": 3
   },
   "file_extension": ".py",
   "mimetype": "text/x-python",
   "name": "python",
   "nbconvert_exporter": "python",
   "pygments_lexer": "ipython3",
   "version": "3.9.7"
  },
  "toc": {
   "base_numbering": 1,
   "nav_menu": {},
   "number_sections": true,
   "sideBar": true,
   "skip_h1_title": false,
   "title_cell": "Table of Contents",
   "title_sidebar": "Contents",
   "toc_cell": false,
   "toc_position": {
    "height": "calc(100% - 180px)",
    "left": "10px",
    "top": "150px",
    "width": "220.625px"
   },
   "toc_section_display": true,
   "toc_window_display": true
  },
  "varInspector": {
   "cols": {
    "lenName": 16,
    "lenType": 16,
    "lenVar": 40
   },
   "kernels_config": {
    "python": {
     "delete_cmd_postfix": "",
     "delete_cmd_prefix": "del ",
     "library": "var_list.py",
     "varRefreshCmd": "print(var_dic_list())"
    },
    "r": {
     "delete_cmd_postfix": ") ",
     "delete_cmd_prefix": "rm(",
     "library": "var_list.r",
     "varRefreshCmd": "cat(var_dic_list()) "
    }
   },
   "types_to_exclude": [
    "module",
    "function",
    "builtin_function_or_method",
    "instance",
    "_Feature"
   ],
   "window_display": false
  }
 },
 "nbformat": 4,
 "nbformat_minor": 5
}

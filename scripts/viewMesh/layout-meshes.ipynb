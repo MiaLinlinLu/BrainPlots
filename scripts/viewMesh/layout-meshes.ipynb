{
 "cells": [
  {
   "cell_type": "code",
   "execution_count": 2,
   "id": "0a633836",
   "metadata": {},
   "outputs": [],
   "source": [
    "import os\n",
    "import colorcet as cc\n",
    "from colour import Color\n",
    "\n",
    "from matplotlib.colors import ListedColormap\n",
    "import matplotlib.pyplot as plt\n",
    "import matplotlib as mpl\n",
    "\n",
    "import numpy as np\n",
    "\n",
    "import pymeshlab as ml\n",
    "\n",
    "import pyvista as pv\n",
    "from pyvista import examples\n",
    "\n",
    "\n",
    "from collections import defaultdict\n",
    "\n",
    "from colorspacious import cspace_converter\n",
    "pv.global_theme.transparent_background = True"
   ]
  },
  {
   "cell_type": "markdown",
   "id": "ca4521dd",
   "metadata": {},
   "source": [
    "## Put Multiple Figures in One Using Matplotlib"
   ]
  },
  {
   "cell_type": "markdown",
   "id": "354cfc7b",
   "metadata": {},
   "source": [
    "### Get all the PNG files"
   ]
  },
  {
   "cell_type": "code",
   "execution_count": 5,
   "id": "ebcb6552",
   "metadata": {},
   "outputs": [],
   "source": [
    "pialfiles = []\n",
    "whitefiles = []\n",
    "\n",
    "all_files = os.listdir('./output/whitepng')\n",
    "for f in all_files:\n",
    "    if f[:4] == 'pial' and f[-4:] == '.png' and '_' not in f:\n",
    "        pialfiles.append(f)\n",
    "    if f[:5] == 'white' and f[-4:] == '.png' and '_' not in f:\n",
    "        whitefiles.append(f)  \n",
    "        \n",
    "all_files = os.listdir('./output/pialpng')\n",
    "for f in all_files:\n",
    "    if f[:4] == 'pial' and f[-4:] == '.png' and '_' not in f:\n",
    "        pialfiles.append(f)\n",
    "    if f[:5] == 'white' and f[-4:] == '.png' and '_' not in f:\n",
    "        whitefiles.append(f) "
   ]
  },
  {
   "cell_type": "code",
   "execution_count": 6,
   "id": "b91d97b0",
   "metadata": {},
   "outputs": [
    {
     "data": {
      "text/plain": [
       "['pialvox2cortex.png',\n",
       " 'pialpialnn.png',\n",
       " 'pialcorticalflow.png',\n",
       " 'pialdeepcsr.png',\n",
       " 'pialcortexode.png']"
      ]
     },
     "execution_count": 6,
     "metadata": {},
     "output_type": "execute_result"
    }
   ],
   "source": [
    "pialfiles"
   ]
  },
  {
   "cell_type": "code",
   "execution_count": 7,
   "id": "7fd0c3de",
   "metadata": {},
   "outputs": [
    {
     "data": {
      "text/plain": [
       "['whitevox2cortex.png',\n",
       " 'whitetopofit.png',\n",
       " 'whitecortexode.png',\n",
       " 'whitecorticalflow.png',\n",
       " 'whitedeepcsr.png']"
      ]
     },
     "execution_count": 7,
     "metadata": {},
     "output_type": "execute_result"
    }
   ],
   "source": [
    "whitefiles"
   ]
  },
  {
   "cell_type": "markdown",
   "id": "0f16bc1a",
   "metadata": {},
   "source": [
    "### Convert PNG to SVG"
   ]
  },
  {
   "cell_type": "code",
   "execution_count": 9,
   "id": "e9c8704d",
   "metadata": {},
   "outputs": [],
   "source": [
    "from png2svglinlin import Png2Svg"
   ]
  },
  {
   "cell_type": "code",
   "execution_count": 11,
   "id": "b22a5a45",
   "metadata": {},
   "outputs": [],
   "source": [
    "# Png2Svg()"
   ]
  },
  {
   "cell_type": "markdown",
   "id": "61dcabe0",
   "metadata": {},
   "source": [
    "### modify SVG file to remove reduplicated ids"
   ]
  },
  {
   "cell_type": "code",
   "execution_count": 12,
   "id": "bde7dd1a",
   "metadata": {},
   "outputs": [],
   "source": [
    "import random\n",
    "\n",
    "#read input file\n",
    "def modify_svg(svgfile, savetofile):\n",
    "    fin = open(svgfile, \"rt\")\n",
    "\n",
    "    #read file contents to string\n",
    "    data = fin.read()\n",
    "    \n",
    "    #replace all occurrences of the required string\n",
    "    \n",
    "    # generate random str\n",
    "    x = random.random()\n",
    "    x = int(x*100000)\n",
    "    data = data.replace('id=\"img', 'id=\"img'+str(x))\n",
    "    data = data.replace('#img', '#img'+str(x))\n",
    "    data = data.replace('id=\"clip', 'id=\"clip'+str(x))\n",
    "    data = data.replace('#clip', '#clip'+str(x))    \n",
    "    \n",
    "    #close the input file\n",
    "    fin.close()\n",
    "\n",
    "    #open the input file in write mode\n",
    "    fin = open('modified_' + svgfile, \"wt\")\n",
    "\n",
    "    #overrite the input file with the resulting data\n",
    "    fin.write(data)\n",
    "\n",
    "    #close the file\n",
    "    fin.close()"
   ]
  },
  {
   "cell_type": "markdown",
   "id": "f2bad3c3",
   "metadata": {},
   "source": [
    "## **Put meshes In One Figure**"
   ]
  },
  {
   "cell_type": "code",
   "execution_count": 23,
   "id": "ebdd8a99",
   "metadata": {},
   "outputs": [],
   "source": [
    "import svgutils.transform as sg\n",
    "import sys \n",
    "\n",
    "#create new SVG figure\n",
    "figure = sg.SVGFigure(\"30cm\", \"15cm\")\n",
    "\n",
    "# load matpotlib-generated figures\n",
    "prefix = './data-layout-meshes/pial/1-'\n",
    "# models = models1\n",
    "\n",
    "start = 150\n",
    "x0 = 100 + start\n",
    "xend = 1000 + start\n",
    "xpos = list(np.linspace(x0,xend,6))\n",
    "\n",
    "plots = []\n",
    "txts = []\n",
    "\n",
    "modelnames = ['CortexODE','CorticalFlow','DeepCSR','PialNN','Vox2Cortex']\n",
    "scale = .1\n",
    "\n",
    "for i in range(5):\n",
    "    fig = sg.fromfile(prefix + str(i+1) + '.svg')\n",
    "    plot = fig.getroot()\n",
    "    plot.rotate(90)\n",
    "    plot.moveto(xpos[i], 0, scale, scale)\n",
    "    plots.append(plot)\n",
    "    \n",
    "prefix = './data-layout-meshes/white/2-'\n",
    "for i in range(5):\n",
    "    fig = sg.fromfile(prefix + str(i+1) + '.svg')\n",
    "    plot = fig.getroot()\n",
    "    plot.rotate(90)\n",
    "    plot.moveto(xpos[i], 200, scale, scale)\n",
    "    plots.append(plot)\n",
    "\n",
    "\n",
    "sgh = 240\n",
    "delta = -150\n",
    "\n",
    "xpos = list(np.linspace(x0,xend+20,6))\n",
    "\n",
    "txts = []\n",
    "for i in range(5):\n",
    "    if i!=3:\n",
    "        txts.append(sg.TextElement(xpos[i] + delta,sgh, modelnames[i], size=12, weight=\"bold\"))\n",
    "        \n",
    "txts.append(sg.TextElement(xpos[3] + delta,sgh-10, modelnames[3]+'*', size=12, weight=\"bold\"))\n",
    "txts.append(sg.TextElement(xpos[3] + delta,sgh+10, 'Topofit*', size=12, weight=\"bold\"))\n",
    "\n",
    "\n",
    "rotate = 270\n",
    "\n",
    "txt1 = sg.TextElement(0, 0, 'Pial', size=12, weight=\"bold\")\n",
    "txt1.rotate(rotate)\n",
    "txt1.moveto(50,150)\n",
    "txt2 = sg.TextElement(0, 0, 'White', size=12, weight=\"bold\")\n",
    "txt2.rotate(rotate)\n",
    "txt2.moveto(50,350)\n",
    "\n",
    "txts.append(txt1)\n",
    "txts.append(txt2)\n",
    "\n",
    "# legend\n",
    "\n",
    "scale = .4\n",
    "x = 560\n",
    "y = 440\n",
    "fig = sg.fromfile('./data-layout-meshes/legend.svg')\n",
    "plot = fig.getroot()\n",
    "plot.moveto(x, y,scale,scale)\n",
    "plots.append(plot)\n",
    "txts.append(sg.TextElement(x+140 , y - 10 , 'Vertex Distance / Mesh Diag (%)', size=12))\n",
    "\n",
    "# append plots and labels to figure\n",
    "figure.append(txts)\n",
    "figure.append(plots)\n",
    "\n",
    "\n",
    "# save generated SVG files\n",
    "figure.save(\"fig_final03.svg\")"
   ]
  },
  {
   "cell_type": "markdown",
   "id": "073c209e",
   "metadata": {},
   "source": [
    "## trim images"
   ]
  },
  {
   "cell_type": "markdown",
   "id": "2745a2e9",
   "metadata": {},
   "source": [
    "png need to be scaled smaller to reduce the image size."
   ]
  }
 ],
 "metadata": {
  "kernelspec": {
   "display_name": "Python 3 (ipykernel)",
   "language": "python",
   "name": "python3"
  },
  "language_info": {
   "codemirror_mode": {
    "name": "ipython",
    "version": 3
   },
   "file_extension": ".py",
   "mimetype": "text/x-python",
   "name": "python",
   "nbconvert_exporter": "python",
   "pygments_lexer": "ipython3",
   "version": "3.9.7"
  },
  "toc": {
   "base_numbering": 1,
   "nav_menu": {},
   "number_sections": true,
   "sideBar": true,
   "skip_h1_title": false,
   "title_cell": "Table of Contents",
   "title_sidebar": "Contents",
   "toc_cell": false,
   "toc_position": {
    "height": "calc(100% - 180px)",
    "left": "10px",
    "top": "150px",
    "width": "268px"
   },
   "toc_section_display": true,
   "toc_window_display": true
  },
  "varInspector": {
   "cols": {
    "lenName": 16,
    "lenType": 16,
    "lenVar": 40
   },
   "kernels_config": {
    "python": {
     "delete_cmd_postfix": "",
     "delete_cmd_prefix": "del ",
     "library": "var_list.py",
     "varRefreshCmd": "print(var_dic_list())"
    },
    "r": {
     "delete_cmd_postfix": ") ",
     "delete_cmd_prefix": "rm(",
     "library": "var_list.r",
     "varRefreshCmd": "cat(var_dic_list()) "
    }
   },
   "types_to_exclude": [
    "module",
    "function",
    "builtin_function_or_method",
    "instance",
    "_Feature"
   ],
   "window_display": false
  }
 },
 "nbformat": 4,
 "nbformat_minor": 5
}
